{
 "cells": [
  {
   "cell_type": "markdown",
   "metadata": {},
   "source": [
    "# Turbo autocomplete"
   ]
  },
  {
   "cell_type": "code",
   "execution_count": 140,
   "metadata": {},
   "outputs": [
    {
     "name": "stdout",
     "output_type": "stream",
     "text": [
      "Connected to EBAY\n",
      "Connected to EBAY\n",
      "Connected to EBAY\n",
      "Connected to EBAY\n",
      "Connected to EBAY\n",
      "Connected to EBAY\n"
     ]
    },
    {
     "data": {
      "text/plain": [
       "['Apple iPhone SE 2in Excellent conditionPlease use the drop-down menu and choose:the Carrier, Color & StoragePackage usually arrives within 3-5 business days after payment is processmuch earlier than the eBay\\'s estimated arrival day. Our devices are acquired in recent trade in deals and fully tested and cleaned.Clean ESN. Ready to be used. Everything works perfectly. Sterilized and cleanNo iCloud lock.We offer a 30 day warranty on this item.PackageIncludes:iPhone SE (2nd Generation Model)USB Charging CableAC Charging AdapterBONUS: New Protective Case for the iPhoneCarrier Compatibility Frequently Asked Questions:What does the Factory Unlocked model work on? All GSM carriers. Examples such as AT&T, T-Mobile, Cricket, MetroPCS, Net10 and many more. All international carriers.Don\\'t choose this model if you have Verizon or Sprint. Keep reading.Can I use Verizon or Verizon Prepaid? Yes. Please select the \"Verizon\" model. Not the Factory Unlocked model.Can I use Sprint? Yes, please only select the Sprint model model. Not the Factory Unlocked model.Is Straight Talk supported? Yes Please select the \"Verizon\" model.Is Xfinity supported? Yes Please select the \"Verizon\" model.Is Cricket or Net10 supported? Yes, Please select the \"AT&T\" or \"Factory Unlocked\" model.Can I use Metro PCS or Simple Mobile?Yes, T-Mobile or the Factory Unlocked model.Can I use Tracfone?Yes, Factory Unlocked model.I have Sprint or Ting which model do I choose? Sprint model. Boost mobile and Virgin Mobile are not supported for any of our phones available here. Please send us a message if unsure of carrier compatibility before placing order. We can check any carrier that you may have.Customer Service:The item will be shipped outwithin 24 hours of payment (excluding weekends and holidays). Please allow us 24 hours for any inquiries through emails or messages.Shipping Address:In an effortto protect our customers from fraudulent orders we onlyship to confirmed addresses.Please make sure your address is correct prior to placing your order. (Recipientname and address must matched on both eBay and PayPal) We cannot make changes after your order has been placed.No forwarding services, hotels, motels or any unconfirmed addresses. Noexceptions.We offer a 30 day moneyback Guarantee. If you have any issues, please contact us using the eBay systemand choose \"Others\" as the topic. We will provide you with the return information. 100% Satisfaction GuaranteeThank you for visiting our listing',\n",
       " 'iPhone 8 is a new generation of iPhone. Designed with most durable glass and a stronger aerospace grade aluminum band. Charges wirelessly. Resists water and dust. 4.7-inch Retina HD display with True Tone. The 12MP camera comes with a new sensor and advanced image signal processor. Powered by A11 Bionic, a most powerful smartphone chip.BODYDimensions 138.4 x 67.3 x 7.3 mm (5.45 x 2.65 x 0.29 in)Weight148 g (5.22 oz)BuildFront/back glass, aluminum frameSIMNano-SIM IP67 dust/water resistant (up to 1m for 30 mins)Apple Pay(Visa, MasterCard, AMEX certified)DISPLAYType Retina IPS LCD capacitive touchscreen, 16M colorsSize4.7 inches, 60.9 cm2 (~65.4% screen-to-body ratio)Resolution750 x 1334 pixels, 16:9 ratio (~326 ppi density)ProtectionIon-strengthened glass, oleophobic coating 625 nits max brightnessWide color gamut3D Touch display & home buttonTrue-tonePLATFORMOS iOS 11, upgradable to iOS 13.1.2ChipsetApple A11 Bionic (10 nm)CPUHexa-core (2x Monsoon + 4x Mistral)GPUApple GPU (three-core graphics)MEMORYCard slot NoInternal64GB 2GB RAMMAIN CAMERASingle 12 MP, f/1.8, 28mm (wide), PDAF, OISFeaturesQuad-LED dual-tone flash, HDRVideo2160p@24/30/60fps, 1080p@30/60/120/240fpsSELFIE CAMERASingle 7 MP, f/2.2FeaturesFace detection, HDR, panoramaVideo1080p@30fpsSOUNDLoudspeaker Yes, with stereo speakers3.5mm jack No Active noise cancellation with dedicated micCOMMSWLAN Wi-Fi 802.11 a/b/g/n/ac, dual-band, hotspotBluetooth5.0, A2DP, LEGPSYes, with A-GPS, GLONASS, GALILEO, QZSSNFCYesRadioNoUSB2.0, proprietary reversible connectorFEATURESSensors Fingerprint (front-mounted), accelerometer, gyro, proximity, compass, barometer Siri natural language commands and dictationBATTERY Non-removable Li-Ion 1821 mAh battery (6.96 Wh)Charging Fast Battery Charging 15W: 50% in 30 minUSB Power Delivery 2.0Qi Wireless ChargingTalk Time Up to 14 h (3G)Music Play Up to 40 h',\n",
       " \"Visit our storeTop Quality Devices, Direct to YouApple iPhone 13, A2482, 128GB, Unlocked, Very Good Condition (Free Ship) Megapixel Camera  inch Screen.Specifications  inches capacitive touchscreen  Ultra wide HDR TOF 3D camera 4K Video  Wireless charger Fast battery Charging 3110 mAh battery Apple iPhone 13, A2482, 128GB, Unlocked, Very Good Condition (Free Ship) from DirectAuthApple iPhone 13, A2482, 128GB, Unlocked, Very Good Condition (Free Ship) by DirectAuth 100% Functional  Full Diagnostic Testing Performed  Tested Battery Box ContentsCharging cable, SIM Ejector, DeviceDirectAuth Grading StandardsWhat should you expect when you buy a device from us? ExcellentExtremely Good condition, flawless screen and body. Very GoodBody of device may have few light scratches. Screen may have light wear marks, not visible when powered on. GoodMay have several light but obvious scratches or dings on body of device.Frequently asked questionsWho is DirectAuth?DirectAuth sources its devices direct from premium manufacturers and mobile carriers, with full functional testing and grading done. You can be assured your device will be in top working order and the stated condition. We pride ourselves by offering some of the best quality devices on the market, while cutting out the middleman.Are these devices tested?All our Devices are tested and inspected in an ISO9001 facility. Our skilled technicians run all devices through extensive cosmetic and functional testing to ensure you get the best quality device for your money. Our testing includes (but is not limited to): Screen Brightness & Pixels Wi-Fi Connectivity Camera Battery Health Cellular Connectivity Button Functionality Internal Speakers & Microphone Final QC with extensive Cleaning and Polishing Do you test for battery health?Yes, we test all our devices for battery health. They show at least 80% of their initial charging capacity to ensure the long term enjoyment of your device.What if I don't like the Device I ordered?We offer a 30-day money back guarantee - we'll even accept the return if you change your mind with your purchase.Comes with OEM charging cable and SIM tool.Visit our store\",\n",
       " 'Apple iPhone 13 Mini - Fully Unlocked - 128GB or 256GB or 512 GBDisplaySuper Retina XDR display5.4‑inch (diagonal) all‑screen OLEDdisplay2340‑by‑1080-pixel resolution at 476ppiHDR displayTrue ToneWide color (P3)Haptic Touch2,000,000:1 contrast ratio (typical)800 nits max brightness (typical); 1200 nits max brightness(HDR)Fingerprint-resistant oleophobic coatingSupport for display of multiple languages and characterssimultaneouslyThe iPhone13mini display has rounded corners that follow a beautiful curved design, and these corners are within a standard rectangle. When measured as a standard rectangular shape, the screen is 5.42inches diagonally (actual viewable area is less).Splash, Water, and Dust Resistant3Rated IP68 (maximum depth of 6 meters up to 30 minutes) under IEC standard 60529ChipA15 Bionic chip6‑core CPU with 2 performance and 4 efficiency cores4‑core GPU16‑core Neural EngineCameraDual 12MP camera system: Main and Ultra Wide camerasMain: ƒ/1.6 apertureUltra Wide: ƒ/2.4 aperture and 120° field of view2x optical zoom outDigital zoom up to 5xPortrait mode with advanced bokeh and Depth ControlPortrait Lighting with six effects (Natural, Studio, Contour, Stage, Stage Mono, High‑Key Mono)Sensor‑shift optical image stabilization (Main)Seven‑element lens (Main); five‑element lens (Ultra Wide)True Tone flash with Slow SyncPanorama (up to 63MP)Sapphire crystal lens cover100% Focus Pixels (Main)Night modeDeep FusionSmart HDR 4Photographic StylesWide color capture for photos and LivePhotosLens correction (Ultra Wide)Advanced red‑eye correctionAuto image stabilizationBurst modePhoto geotaggingImage formats captured: HEIF and JPEGVideo RecordingCinematic mode (1080p at 30 fps)HDR video recording with Dolby Vision up to 4K at 60 fps4K video recording at 24 fps, 25 fps, 30 fps, or 60 fps1080p HD video recording at 25 fps, 30 fps, or 60 fps720p HD video recording at 30 fpsSensor-shift optical image stabilization for video (Main)2x optical zoom outDigital zoom up to 3xAudio zoomTrue ToneflashQuickTake videoSlo‑mo video support for 1080p at 120 fps or 240 fpsTime‑lapse video with stabilizationNight mode Time-lapseCinematic videostabilization (4K, 1080p, and 720p)Continuous autofocus videoTake 8MP still photos while recording 4K videoPlayback zoomVideo formats recorded: HEVC and H.264Stereo recordingTrueDepth Camera12MP cameraƒ/2.2 aperturePortrait mode with advanced bokeh and Depth ControlPortrait Lighting with six effects (Natural, Studio, Contour, Stage, Stage Mono, High‑Key Mono)Animoji and MemojiNight modeDeep FusionSmart HDR 4Photographic StylesCinematic mode (1080p at 30 fps)HDR video recording with Dolby Vision up to 4K at 60 fps4K video recording at 24 fps, 25 fps, 30 fps, or 60 fps1080p HD video recording at 25 fps, 30 fps, or 60 fpsSlo-mo video support for 1080p at 120 fpsTime‑lapse video with stabilizationNight mode Time-lapseCinematic videostabilization (4K, 1080p, and 720p)QuickTake videoWide color capture for photos and LivePhotosLens correctionRetina FlashAuto image stabilizationBurst modeFaceIDEnabled by TrueDepth camera for facial recognitionApplePayPay with your iPhone using FaceID in stores, within apps, and on thewebSend and receive money in Messages with Apple Cash4Complete purchases made with ApplePay on your MacPay for your ride using ExpressTransit5Learn more about ApplePayLearn more about AppleCashCellular and WirelessModel A2481*5G NR (Bands n1, n2, n3, n5, n7, n8, n12, n20, n25, n28, n29, n30, n38, n40, n41, n48, n66, n71, n77, n78, n79)5G NR mmWave (Bands n258, n260, n261)FDD‑LTE (Bands 1, 2, 3, 4, 5, 7, 8, 11, 12, 13, 14, 17, 18, 19, 20, 21, 25, 26, 28, 29, 30, 32, 66, 71)TD‑LTE (Bands 34, 38, 39, 40, 41, 42, 46, 48)CDMA EV‑DO Rev. A (800, 1900 MHz)UMTS/HSPA+/DC-HSDPA (850, 900, 1700/2100, 1900, 2100 MHz)GSM/EDGE (850, 900, 1800, 1900 MHz)Model A2482*5G NR (Bands n1, n2, n3, n5, n7, n8, n12, n20, n25, n28, n29, n30, n38, n40, n41, n48, n66, n71, n77, n78, n79)5G NR mmWave (Bands n258, n260, n261)FDD‑LTE (Bands 1, 2, 3, 4, 5, 7, 8, 11, 12, 13, 14, 17, 18, 19, 20, 21, 25, 26, 28, 29, 30, 32, 66, 71)TD‑LTE (Bands 34, 38, 39, 40, 41, 42, 46, 48)CDMA EV‑DO Rev. A (800, 1900 MHz)UMTS/HSPA+/DC-HSDPA (850, 900, 1700/2100, 1900, 2100 MHz)GSM/EDGE (850, 900, 1800, 1900 MHz)All models5G (sub‑6 GHz and mmWave) with 4x4 MIMO6Gigabit LTE with 4x4 MIMO and LAA6Wi‑Fi 6 (802.11ax) with 2x2 MIMOBluetooth 5.0Ultra Wideband chip for spatial awareness7NFC with reader modeExpress Cards with power reserveFor details on 5G and LTE support, contact your carrier and see[link removed by eBay]LocationGPS, GLONASS, Galileo, QZSS, and BeiDouDigital compassWi‑FiCellulariBeacon microlocationVideo Calling8FaceTime video calling over cellular or Wi‑FiFaceTime HD (1080p) video calling over 5G or Wi-FiShare experiences like movies, TV, music, and other apps in a FaceTime call with SharePlayScreen sharingPortrait mode in FaceTime videoSpatial audioVoice Isolation and Wide Spectrum microphone modesZoom with rear-facing cameraAudio Calling8FaceTime audioVoice over LTE (VoLTE)6Wi‑Fi calling6Share experiences like movies, TV, music, and other apps in a FaceTime call with SharePlayScreen sharingSpatial audioVoice Isolation and Wide Spectrum microphone modesAudio PlaybackSupported formats include AAC, MP3, Apple Lossless, FLAC, Dolby Digital, Dolby Digital Plus, and Dolby AtmosSpatial audio playbackUser‑configurable maximum volume limitVideo PlaybackSupported formats include HEVC, H.264, and ProResHDR with Dolby Vision, HDR10, andHLGUp to 4K HDR AirPlay for mirroring, photos, and video out to Apple TV (2nd generation or later) or AirPlay‑enabled smart TVVideo mirroring and video out support: Up to 1080p through Lightning Digital AV Adapter and Lightning to VGA Adapter (adapters sold separately)10Siri10Use your voice to send messages, set reminders, andmoreActivate hands‑free with only your voice using “Hey Siri”Use your voice to run shortcuts from your favorite appsLearn more about SiriExternal Buttons and ConnectorsFront cameraSide buttonLightning connectorSIM trayVolume buttonsRing/Silent switchRear camerasFlashPower and Battery11Video playback: Up to 17 hoursVideo playback (streamed): Up to 13 hoursAudio playback: Up to 55 hoursBuilt-in rechargeable lithium-ion batteryMagSafe wireless charging up to 15W12Qi wireless charging up to 7.5W12Charging via USB to computer system or power adapterFast-charge capable: Up to 50% charge in 30 minutes13with20W adapteror higher (available separately)MagSafeWireless charging up to 15W12Magnet arrayAlignment magnetAccessory Identification NFCMagnetometerSensorsFaceIDBarometerThree‑axis gyroAccelerometerProximity sensorAmbient light sensor',\n",
       " \"Visit our storeTop Quality Devices, Direct to YouApple iPhone 12 Pro Max A2342 128GB Unlocked Good Condition 12 Megapixel Camera 6.7 inch Screen.Specifications 6.7 inches capacitive touchscreen  Ultra wide HDR TOF 3D camera 4K Video  Wireless charger Fast battery Charging 3110 mAh battery Apple iPhone 12 Pro Max A2342 128GB Unlocked Good Condition from DirectAuthApple iPhone 12 Pro Max A2342 128GB Unlocked Good Condition by DirectAuth 100% Functional  Full Diagnostic Testing Performed  Tested Battery Box ContentsCharging cable, SIM Ejector, DeviceDirectAuth Good Condition StandardsWhat should you expect when you buy a device from us?GoodThe pictures above are an Example of the type of wear the item may have when you receive it. This product is in good condition. There will be signs of minor wear in the form of scratches and scuffs but nothing that will impair functionality. Scratches will be visible without a screen. Once a screen is on the scratches are no longer visible. Good Device Ready to ShipThe device is professionally cleaned, tested, and restored to factory settings. Battery health will be 80% or higher. We ship the item with a clear removable screen protector and padded sleeve to ensure safe shipping.Frequently asked questionsWho is DirectAuth?DirectAuth sources its devices direct from premium manufacturers and mobile carriers, with full functional testing and grading done. You can be assured your device will be in top working order and in the stated condition. We pride ourselves by offering some of the best quality devices on the market, while cutting out the middleman.Why Buy Used?Sustainability. Direct Auth prides itself in being sustainable for the environment by offering renewed and refurbished phones. Buying a refurbished phone isn’t only good for saving money but it's also good for the environment by extending the life of each device and keeping them out of landfills.Are these devices tested?All our Devices are tested and inspected in an ISO9001 facility. Our skilled technicians run all devices through extensive cosmetic and functional testing to ensure you get the best quality device for your money. Our testing includes (but is not limited to): Screen Brightness & Pixels Wi-Fi Connectivity Camera Battery Health Cellular Connectivity Button Functionality Internal Speakers & Microphone Final QC with extensive Cleaning and Polishing Do you test for battery health?Yes, we test all our devices for battery health. They show at least 80% of their initial charging capacity to ensure the long term enjoyment of your device.What if I don't like the Device I ordered?We offer a 30-day money back guarantee - we'll even accept the return if you change your mind with your purchase.Comes with OEM charging cable and SIM tool.Visit our store\"]"
      ]
     },
     "execution_count": 140,
     "metadata": {},
     "output_type": "execute_result"
    }
   ],
   "source": [
    "from ebay_rest import API, Error\n",
    "from bs4 import BeautifulSoup\n",
    "import re\n",
    "\n",
    "\n",
    "\n",
    "def connect():\n",
    "    try:\n",
    "        api = API(application='production_1', user='production_1', header='US')\n",
    "        print('Connected to EBAY')\n",
    "        return api\n",
    "    except Error as error:\n",
    "        print(f'Error {error.number} is {error.reason}  {error.detail}.\\n')\n",
    "\n",
    "def get_products_by_keyword(category_name : str, limit : int):\n",
    "    products_list = []\n",
    "    try:\n",
    "        api = connect()\n",
    "        if api:\n",
    "            data = api.buy_browse_search(q=category_name, limit=limit)\n",
    "            for record in data:\n",
    "                if 'record' not in record:\n",
    "                    pass\n",
    "                else:\n",
    "                    item = record['record']\n",
    "                    products_list.append(item)\n",
    "        return products_list\n",
    "    except Error as error:\n",
    "        print(f'Error {error.number} is {error.reason} {error.detail}.\\n')\n",
    "\n",
    "def get_product_by_id(product_id : str):\n",
    "    try:\n",
    "        api = connect()\n",
    "        if api:\n",
    "            product = api.buy_browse_get_item(product_id)\n",
    "            if product:\n",
    "                return product\n",
    "    except Error as error:\n",
    "        print(f'Error {error.number} is {error.reason} {error.detail}.\\n')\n",
    "\n",
    "def get_products_descriptions(keyword : str, limit : int):\n",
    "\n",
    "    try:\n",
    "        products_list = get_products_by_keyword(keyword, limit)\n",
    "        products_ids = []\n",
    "        products_descriptions_raw = []\n",
    "        products_descriptions_clean = []\n",
    "        if products_list:\n",
    "            for product in products_list:\n",
    "                products_ids.append(product['item_id'])\n",
    "            \n",
    "            for id in products_ids:\n",
    "                item = get_product_by_id(id)\n",
    "                if item:\n",
    "                     products_descriptions_raw.append(item['description'])\n",
    "        \n",
    "            for product_description in products_descriptions_raw:\n",
    "                cleaned_description = strip_html_tags(product_description)\n",
    "                products_descriptions_clean.append(cleaned_description)\n",
    "        \n",
    "        return products_descriptions_clean\n",
    "\n",
    "    except Error as error:\n",
    "        print(f'Error {error.number} is {error.reason} {error.detail}.\\n')\n",
    "\n",
    "\n",
    "def strip_html_tags(html : str):\n",
    "    soup = BeautifulSoup(html, 'html.parser')\n",
    "    stripped_text = soup.get_text()\n",
    "    text = stripped_text.splitlines()\n",
    "    \n",
    "    return \"\".join(text).replace(\"  \",\" \").replace(\"\\xa0\", \"\")\n",
    "\n",
    "\n",
    "def test_regex(text : str, pattern):\n",
    "    text_without_escape = re.sub(pattern,'', text)\n",
    "    return text_without_escape\n",
    "\n",
    "get_products_descriptions('iphone', 5)\n",
    "\n"
   ]
  }
 ],
 "metadata": {
  "kernelspec": {
   "display_name": "Python 3",
   "language": "python",
   "name": "python3"
  },
  "language_info": {
   "codemirror_mode": {
    "name": "ipython",
    "version": 3
   },
   "file_extension": ".py",
   "mimetype": "text/x-python",
   "name": "python",
   "nbconvert_exporter": "python",
   "pygments_lexer": "ipython3",
   "version": "3.11.2"
  },
  "orig_nbformat": 4
 },
 "nbformat": 4,
 "nbformat_minor": 2
}
