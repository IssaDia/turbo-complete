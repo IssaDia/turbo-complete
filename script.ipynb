{
 "cells": [
  {
   "cell_type": "markdown",
   "metadata": {},
   "source": [
    "# Turbo autocomplete"
   ]
  },
  {
   "cell_type": "code",
   "execution_count": 19,
   "metadata": {},
   "outputs": [
    {
     "name": "stdout",
     "output_type": "stream",
     "text": [
      "Connected to EBAY\n"
     ]
    }
   ],
   "source": [
    "from ebay_rest import API, DateTime, Error, Reference\n",
    "\n",
    "try:\n",
    "    api = API(application='production_1', user='production_1', header='US')\n",
    "    print(\"Connected to EBAY\")\n",
    "except Error as error:\n",
    "    print(f'Error {error.number} is {error.reason}  {error.detail}.\\n')\n",
    "\n",
    "\n",
    "\n",
    "\n"
   ]
  }
 ],
 "metadata": {
  "kernelspec": {
   "display_name": "Python 3",
   "language": "python",
   "name": "python3"
  },
  "language_info": {
   "codemirror_mode": {
    "name": "ipython",
    "version": 3
   },
   "file_extension": ".py",
   "mimetype": "text/x-python",
   "name": "python",
   "nbconvert_exporter": "python",
   "pygments_lexer": "ipython3",
   "version": "3.11.2"
  },
  "orig_nbformat": 4
 },
 "nbformat": 4,
 "nbformat_minor": 2
}
